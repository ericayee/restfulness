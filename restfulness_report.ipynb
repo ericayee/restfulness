{
 "cells": [
  {
   "cell_type": "markdown",
   "metadata": {},
   "source": [
    "# Developing a Composite Measure: Restfulness\n",
    "### Erica Yee / IS4800"
   ]
  },
  {
   "cell_type": "markdown",
   "metadata": {},
   "source": [
    "## Identifying factors\n",
    "Restfulness is an important factor in the lives of college students that goes beyond the amount of sleep one gets. College students \"suffer a decreased level of sleep quality compared with a 'normal' adult population” (__[Buboltz, et al 2001](https://www.researchgate.net/publication/11593058_Sleep_Habits_and_Patterns_of_College_Students_A_Preliminary_Study)__). Research has also shown that irregular sleeping patterns may be linked with poorer academic performance in college students (__[Phillips et al 2017](https://www.nature.com/articles/s41598-017-03171-4)__). Accordingly, this study aims to measuring the degree to which a student feels rested through questions about various related habits and behaviors."
   ]
  },
  {
   "cell_type": "markdown",
   "metadata": {},
   "source": [
    "## Identifying items\n",
    "The questionnaire includes nine items, with the first six comprising the composite measure. These six items required responses on a 5-point Likert scale: *(1) Strongly disagree, (2) Disagree, (3) Neither agree nor disagree, (4) Agree, (5) Strongly agree*.\n",
    "\n",
    "The composite measure items appeared as follows, with respondents asked to rate each item on the 5-point scale. They were inspired by the __[Pittsburgh Sleep Quality Index](http://uacc.arizona.edu/sites/default/files/psqi_sleep_questionnaire_1_pg.pdf)__, a previously validated sleep assessment.\n",
    "1. I find it difficult to get to sleep.\n",
    "2. I go to bed at the same time every night.\n",
    "3. I feel that I sleep enough every night.\n",
    "4. My sleep is interrupted and disturbed.\n",
    "5. I feel tired when I wake up.\n",
    "6. I feel rested throughout the day.\n",
    "\n",
    "The seventh item was an additional Likert scale item for survey validation purposes.\n",
    "7. I regularly feel stressed.\n",
    "\n",
    "Finally, there were two demographic items included for general information.\n",
    "8. What is your age? *(short answer)*\n",
    "9. What is your gender? *(Female/Male/Prefer not to say)*"
   ]
  },
  {
   "attachments": {},
   "cell_type": "markdown",
   "metadata": {},
   "source": [
    "## Face validity, content validity, and response variance\n",
    "Before administration, the questionnaire was analyzed on several dimensions of validity. The analysis is presented in a table:\n",
    "<img src=\"validity_table.png\" alt=\"validity table\">"
   ]
  },
  {
   "attachments": {},
   "cell_type": "markdown",
   "metadata": {},
   "source": [
    "## Bivariate analysis\n",
    "The purpose of bivariate analysis is to ensure every pair of items in the questionnaire are related, but not redundant. The analysis was as follows:\n",
    "<img src=\"bivariate_table.png\" alt=\"bivariate table\">"
   ]
  },
  {
   "cell_type": "markdown",
   "metadata": {},
   "source": [
    "## Results\n",
    "The questionnaire was administered online using __[Google Forms](https://docs.google.com/forms/d/e/1FAIpQLSda5eLa3hJF5rRy1jsgnNxq4uerv4ugZL6xcM5GFAYZdlyKXA/viewform?usp=sf_link)__."
   ]
  },
  {
   "cell_type": "markdown",
   "metadata": {},
   "source": [
    "#### import required libraries"
   ]
  },
  {
   "cell_type": "code",
   "execution_count": 33,
   "metadata": {},
   "outputs": [],
   "source": [
    "import pandas as pd\n",
    "import matplotlib.pyplot as plt\n",
    "from scipy.stats import pearsonr\n",
    "from scipy.stats import linregress"
   ]
  },
  {
   "cell_type": "markdown",
   "metadata": {},
   "source": [
    "The results were as follows:"
   ]
  },
  {
   "cell_type": "code",
   "execution_count": 34,
   "metadata": {
    "scrolled": false
   },
   "outputs": [
    {
     "name": "stdout",
     "output_type": "stream",
     "text": [
      "    Q1  Q2  Q3  Q4  Q5  Q6  Q7  Age  Gender\n",
      "0    5   3   1   5   1   1   3   20    Male\n",
      "1    5   3   2   4   3   4   2   21    Male\n",
      "2    2   2   1   1   2   2   2   28    Male\n",
      "3    2   3   2   3   2   2   2   27  Female\n",
      "4    4   4   2   5   3   2   2   20    Male\n",
      "5    4   2   2   2   1   2   2   22  Female\n",
      "6    3   1   3   3   2   2   2   22    Male\n",
      "7    2   2   2   4   2   1   2   22    Male\n",
      "8    4   2   1   5   1   2   2   20    Male\n",
      "9    3   2   3   5   3   3   2   27  Female\n",
      "10   5   2   1   2   3   2   4   23    Male\n",
      "11   3   2   3   4   3   3   4   21    Male\n",
      "12   3   2   4   4   2   4   5   22    Male\n",
      "13   4   2   4   3   2   2   1   21    Male\n",
      "14   2   2   2   4   1   2   1   21    Male\n",
      "15   2   2   4   4   4   2   2   25  Female\n",
      "16   2   2   1   2   2   2   2   23    Male\n"
     ]
    }
   ],
   "source": [
    "rest_data = pd.read_csv('data_neg_csv.csv')\n",
    "print(rest_data)"
   ]
  },
  {
   "cell_type": "markdown",
   "metadata": {},
   "source": [
    "## Analysis of demographic data\n",
    "There were 17 respondents, with an age range of 20 to 28. The results are positively skewed and not normally distributed, as evidenced in the histogram below: "
   ]
  },
  {
   "cell_type": "code",
   "execution_count": 35,
   "metadata": {
    "scrolled": true
   },
   "outputs": [
    {
     "data": {
      "image/png": "[encoded data removed]",
      "text/plain": [
       "<Figure size 432x288 with 1 Axes>"
      ]
     },
     "metadata": {},
     "output_type": "display_data"
    }
   ],
   "source": [
    "age = rest_data['Age']\n",
    "plt.hist(age)\n",
    "plt.ylabel('Frequency')\n",
    "plt.title('Age')\n",
    "plt.show()"
   ]
  },
  {
   "cell_type": "code",
   "execution_count": 36,
   "metadata": {
    "scrolled": false
   },
   "outputs": [
    {
     "name": "stdout",
     "output_type": "stream",
     "text": [
      "22.0\n",
      "2.0\n"
     ]
    }
   ],
   "source": [
    "age_med = age.median()\n",
    "print(age_med)\n",
    "\n",
    "age_iqr = age.quantile(0.75) - age.quantile(0.25)\n",
    "print(age_iqr)"
   ]
  },
  {
   "cell_type": "markdown",
   "metadata": {},
   "source": [
    "The median age is 22 and the interquartile range is 2."
   ]
  },
  {
   "cell_type": "code",
   "execution_count": 37,
   "metadata": {
    "scrolled": true
   },
   "outputs": [
    {
     "data": {
      "text/plain": [
       "Text(0.5,1,'Gender')"
      ]
     },
     "execution_count": 37,
     "metadata": {},
     "output_type": "execute_result"
    },
    {
     "data": {
      "image/png": "[encoded data removed]",
      "text/plain": [
       "<Figure size 432x288 with 1 Axes>"
      ]
     },
     "metadata": {},
     "output_type": "display_data"
    }
   ],
   "source": [
    "gen = rest_data['Gender']\n",
    "gen_counts = gen.value_counts()\n",
    "gen.value_counts().plot('bar')\n",
    "plt.ylabel('Frequency')\n",
    "plt.title('Gender')"
   ]
  },
  {
   "cell_type": "markdown",
   "metadata": {},
   "source": [
    "There were 13 male (76 percent) and 4 female respondents (24 percent). The mode was male."
   ]
  },
  {
   "cell_type": "markdown",
   "metadata": {},
   "source": [
    "## Analysis of composite scores\n",
    "The composite scores were calculated by negating the negative items and then summing up responses to the first six Likert items. The maximum possible score, intended to represent maximum degree of restfulness, is 30. The results are not normally distributed."
   ]
  },
  {
   "cell_type": "code",
   "execution_count": 38,
   "metadata": {
    "scrolled": true
   },
   "outputs": [
    {
     "data": {
      "text/plain": [
       "Text(0,0.5,'Frequency')"
      ]
     },
     "execution_count": 38,
     "metadata": {},
     "output_type": "execute_result"
    },
    {
     "data": {
      "image/png": "[encoded data removed]",
      "text/plain": [
       "<Figure size 432x288 with 1 Axes>"
      ]
     },
     "metadata": {},
     "output_type": "display_data"
    }
   ],
   "source": [
    "first_six = rest_data.loc[:, 'Q1':'Q6']\n",
    "comps = first_six.sum(axis=1)\n",
    "\n",
    "plt.hist(comps)\n",
    "plt.title('Composite Scores')\n",
    "plt.ylabel('Frequency')"
   ]
  },
  {
   "cell_type": "code",
   "execution_count": 39,
   "metadata": {
    "scrolled": true
   },
   "outputs": [
    {
     "name": "stdout",
     "output_type": "stream",
     "text": [
      "15.0\n",
      "5.0\n"
     ]
    }
   ],
   "source": [
    "comps_med = comps.median()\n",
    "print(comps_med)\n",
    "\n",
    "comps_iqr = comps.quantile(0.75) - comps.quantile(0.25)\n",
    "print(comps_iqr)"
   ]
  },
  {
   "cell_type": "markdown",
   "metadata": {},
   "source": [
    "The median of the composite scores is 15 and the interquartile range is 5."
   ]
  },
  {
   "cell_type": "markdown",
   "metadata": {},
   "source": [
    "## Testing reliability\n",
    "Cronbach's Alpha was used to test reliability of the questionnaire through measuring internal consistency. Again, the first six items that comprise the composite measure were negated if reverse-coded and then analyzed."
   ]
  },
  {
   "cell_type": "code",
   "execution_count": 40,
   "metadata": {
    "scrolled": true
   },
   "outputs": [
    {
     "data": {
      "text/plain": [
       "0.5048097631012202"
      ]
     },
     "execution_count": 40,
     "metadata": {},
     "output_type": "execute_result"
    }
   ],
   "source": [
    "def cronbach_alpha(items):\n",
    "    items_count = items.shape[1]\n",
    "    variance_sum = float(items.var(axis=0, ddof=1).sum())\n",
    "    total_var = float(items.sum(axis=1).var(ddof=1))\n",
    "    \n",
    "    return (items_count / float(items_count - 1) *\n",
    "            (1 - variance_sum / total_var))\n",
    "    \n",
    "cronbach_alpha(first_six)"
   ]
  },
  {
   "cell_type": "markdown",
   "metadata": {},
   "source": [
    "The reliability of the subscale scores was $\\alpha = 0.50$. Since $\\alpha < 0.70$, the commonly accepted measure of reliable variance, the survey lacks adequate internal consistency, and thus reliability."
   ]
  },
  {
   "cell_type": "markdown",
   "metadata": {},
   "source": [
    "## Testing validity\n",
    "Criterion-related validity, specifically concurrent validity, was used to check if survey results correlate with another measure of the same dimension taken at the same time. Perceived stress has been shown (__[Amaral et al 2017](https://www-sciencedirect-com.ezproxy.neu.edu/science/article/pii/S0165178117300756)__) to have a positive and significant correlation with sleep difficulties. Therefore, a seventh Likert-scale item, \"I regularly feel stressed,\" was added. The relationship between the composite scores and the seventh item was analyzed using Pearson's r."
   ]
  },
  {
   "cell_type": "code",
   "execution_count": 41,
   "metadata": {},
   "outputs": [
    {
     "data": {
      "text/plain": [
       "(0.2792580978242856, 0.27770574758737787)"
      ]
     },
     "execution_count": 41,
     "metadata": {},
     "output_type": "execute_result"
    }
   ],
   "source": [
    "x = rest_data['Q7']\n",
    "y = comps\n",
    "\n",
    "pearsonr(x, y)"
   ]
  },
  {
   "cell_type": "markdown",
   "metadata": {},
   "source": [
    "There is a not a significant correlation between the composite scores and the scores of the seventh item, with $r = 0.28$ and $p > .05$. Consequently, the questionnaire seems to lack validity as a composite measure for restfulness."
   ]
  },
  {
   "cell_type": "code",
   "execution_count": 42,
   "metadata": {
    "scrolled": false
   },
   "outputs": [
    {
     "data": {
      "image/png": "[encoded data removed]",
      "text/plain": [
       "<Figure size 432x288 with 1 Axes>"
      ]
     },
     "metadata": {},
     "output_type": "display_data"
    }
   ],
   "source": [
    "stats = linregress(x, y)\n",
    "m = stats.slope\n",
    "b = stats.intercept\n",
    "\n",
    "plt.scatter(x, y)\n",
    "plt.xticks([1,2,3,4,5])\n",
    "plt.plot(x, m * x + b, color='red')\n",
    "plt.ylabel('Composite Score')\n",
    "plt.xlabel('Question 7 Score')\n",
    "plt.show()"
   ]
  },
  {
   "cell_type": "markdown",
   "metadata": {},
   "source": [
    "## Discussion\n",
    "This study aimed to create a new composite measure of restfulness through a questionnaire with six 5-point Likert scale items. However, the reliability of the measure as calculated using Cronbach's alpha and the criterion-related concurrent validity were both lacking. These limited results show that this questionnaire should not be considered a valid measure of restfulness in its current form. Future research should more comprehensively examine which factors of sleep behavior better indicate one's degree of restfulness in order to improve the measure."
   ]
  },
  {
   "cell_type": "markdown",
   "metadata": {},
   "source": [
    "## References\n",
    "Amaral, A. P., Soares, M. J., Pinto, A. M., Pereira, A. T., Madeira, N., Bos, S. C., Marques, M., Roque, C., Macedo, A. (2018). Sleep difficulties in college students: The role of stress, affect and cognitive processes. *Psychiatry Research*, *260*, 331-337. doi:10.1016/j.psychres.2017.11.072\n",
    "\n",
    "Buboltz, W. C., Brown, F. C., Soper, B. (2001). Sleep Habits and Patterns of College Students: A Preliminary Study. *Journal of American College Health*, *50*(3), 131-135. doi:10.1080/07448480109596017\n",
    "\n",
    "Kang, J., Chen, S. (2009). Effects of an irregular bedtime schedule on sleep quality, daytime sleepiness, and fatigue among university students in Taiwan. *BMC Public Health*, *9*, 248. doi:10.1186/1471-2458-9-248\n",
    "\n",
    "Phillips, A. J. K., Clerx, W. M., O'Brien, C. S., Sano, A., Barger, L. K., Picard, R. W., Lockley, S. W., Klerman, E. B., Czeisler, C. A. (2017). Irregular sleep/wake patterns are associated with poorer academic performance and delayed circadian and sleep/wake timing. *Scientific Reports*, *7*, 3216. doi:10.1038/2Fs41598-017-03171-4"
   ]
  }
 ],
 "metadata": {
  "kernelspec": {
   "display_name": "Python 3",
   "language": "python",
   "name": "python3"
  },
  "language_info": {
   "codemirror_mode": {
    "name": "ipython",
    "version": 3
   },
   "file_extension": ".py",
   "mimetype": "text/x-python",
   "name": "python",
   "nbconvert_exporter": "python",
   "pygments_lexer": "ipython3",
   "version": "3.6.5"
  }
 },
 "nbformat": 4,
 "nbformat_minor": 2
}
